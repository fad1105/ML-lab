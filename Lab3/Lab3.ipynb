{
 "cells": [
  {
   "cell_type": "code",
   "execution_count": 1,
   "metadata": {},
   "outputs": [],
   "source": [
    "import numpy as np\n",
    "import pandas as pd\n",
    "from sklearn import datasets\n",
    "from sklearn.naive_bayes import GaussianNB,MultinomialNB\n",
    "from sklearn.model_selection import train_test_split\n",
    "from sklearn.metrics import confusion_matrix\n",
    "from sklearn.metrics import precision_score\n",
    "from sklearn.metrics import recall_score\n",
    "from sklearn import metrics\n",
    "from sklearn.preprocessing import LabelEncoder"
   ]
  },
  {
   "cell_type": "code",
   "execution_count": 65,
   "metadata": {},
   "outputs": [],
   "source": [
    "weather = ['Sunny','Sunny','Overcast','Rainy','Rainy','Rainy','Overcast','Sunny','Sunny','Rainy','Sunny','Overcast','Overcast','Rainy']\n",
    "\n",
    "temp = ['Hot','Hot','Hot','Mild','Cool','Cool','Cool','Mild','Cool','Mild','Mild','Mild','Hot','Mild']\n",
    "\n",
    "play=['No','No','Yes','Yes','Yes','No','Yes','No','Yes','Yes','Yes','Yes','Yes','No']"
   ]
  },
  {
   "cell_type": "code",
   "execution_count": 67,
   "metadata": {},
   "outputs": [
    {
     "name": "stdout",
     "output_type": "stream",
     "text": [
      "Weather :\n",
      " [2 2 0 1 1 1 0 2 2 1 2 0 0 1]\n",
      "\n",
      "Temperature :\n",
      " [1 1 1 2 0 0 0 2 0 2 2 2 1 2]\n",
      "\n",
      "Play :\n",
      " [0 0 1 1 1 0 1 0 1 1 1 1 1 0]\n"
     ]
    }
   ],
   "source": [
    "le = LabelEncoder()\n",
    "\n",
    "weather_encoded = le.fit_transform(weather)\n",
    "temp_encoded = le.fit_transform(temp)\n",
    "class_label = le.fit_transform(play)\n",
    "\n",
    "print(\"Weather :\\n\", weather_encoded)\n",
    "print(\"\\nTemperature :\\n\", temp_encoded)\n",
    "print(\"\\nPlay :\\n\", class_label)"
   ]
  },
  {
   "cell_type": "code",
   "execution_count": 68,
   "metadata": {},
   "outputs": [
    {
     "name": "stdout",
     "output_type": "stream",
     "text": [
      "Features :\n",
      " ((2, 1), (2, 1), (0, 1), (1, 2), (1, 0), (1, 0), (0, 0), (2, 2), (2, 0), (1, 2), (2, 2), (0, 2), (0, 1), (1, 2))\n"
     ]
    }
   ],
   "source": [
    "features = tuple(zip(weather_encoded, temp_encoded))\n",
    "\n",
    "print(\"Features :\\n\", features)"
   ]
  },
  {
   "cell_type": "code",
   "execution_count": 69,
   "metadata": {},
   "outputs": [
    {
     "data": {
      "text/plain": [
       "MultinomialNB()"
      ]
     },
     "execution_count": 69,
     "metadata": {},
     "output_type": "execute_result"
    }
   ],
   "source": [
    "model = MultinomialNB()\n",
    "model.fit(features, class_label)"
   ]
  },
  {
   "cell_type": "code",
   "execution_count": 70,
   "metadata": {},
   "outputs": [
    {
     "name": "stdout",
     "output_type": "stream",
     "text": [
      "Weather is Sunny, Temp is Mild = [[0.36151612 0.63848388]]\n"
     ]
    }
   ],
   "source": [
    "predicted = model.predict_proba([[2,2]])\n",
    "print(\"Weather is Sunny, Temp is Mild =\", predicted)"
   ]
  },
  {
   "cell_type": "code",
   "execution_count": 71,
   "metadata": {},
   "outputs": [
    {
     "name": "stdout",
     "output_type": "stream",
     "text": [
      "Features :\n",
      " ['sepal length (cm)', 'sepal width (cm)', 'petal length (cm)', 'petal width (cm)']\n",
      "\n",
      "Labels :\n",
      " ['setosa' 'versicolor' 'virginica']\n",
      "\n",
      "Data shape :  (150, 4)\n",
      "\n",
      "Traget shape :  (150,)\n",
      "\n",
      "Data type :  <class 'numpy.ndarray'>\n",
      "\n",
      "New Data shape :  (100, 4)\n",
      "\n",
      "New Traget shape :  (100,)\n"
     ]
    }
   ],
   "source": [
    "iris=datasets.load_iris()\n",
    "\n",
    "print(\"Features :\\n\", iris.feature_names)\n",
    "print(\"\\nLabels :\\n\", iris.target_names)\n",
    "\n",
    "print(\"\\nData shape : \", iris.data.shape)\n",
    "print(\"\\nTraget shape : \", iris.target.shape)\n",
    "\n",
    "# print(\"\\nData :\\n\", iris.data)\n",
    "# print(\"\\nTarget :\\n\", iris.target)\n",
    "\n",
    "print(\"\\nData type : \", type(iris.data))\n",
    "\n",
    "newdata = iris.data[50: , :]\n",
    "newtarget = iris.target[50:]\n",
    "\n",
    "print(\"\\nNew Data shape : \", newdata.shape)\n",
    "print(\"\\nNew Traget shape : \", newtarget.shape)"
   ]
  },
  {
   "cell_type": "code",
   "execution_count": 72,
   "metadata": {},
   "outputs": [
    {
     "name": "stdout",
     "output_type": "stream",
     "text": [
      "Accuracy : 0.9333333333333333\n",
      "\n",
      "Confusion Matrix :\n",
      " [[17  1]\n",
      " [ 1 11]]\n",
      "\n",
      "precision : 0.9444444444444444\n",
      "\n",
      "recall : 0.9444444444444444\n"
     ]
    }
   ],
   "source": [
    "data_train, data_test, target_train, target_test = train_test_split(newdata, newtarget, test_size = 0.30, random_state = 9)\n",
    "\n",
    "gnb = GaussianNB()\n",
    "\n",
    "gnb.fit(data_train, target_train)\n",
    "\n",
    "target_pred = gnb.predict(data_test)\n",
    "\n",
    "print(\"Accuracy :\", metrics.accuracy_score(target_test, target_pred))\n",
    "print(\"\\nConfusion Matrix :\\n\", confusion_matrix(target_test, target_pred))\n",
    "\n",
    "precision = precision_score(target_test, target_pred)\n",
    "recall = recall_score(target_test, target_pred)\n",
    "\n",
    "print('\\nprecision :', precision)\n",
    "print('\\nrecall :', recall)"
   ]
  },
  {
   "cell_type": "markdown",
   "metadata": {},
   "source": [
    "# TASK 1\n",
    "Try the algo on Dataset2 - LabelEncoding of features:\n",
    "and Train test Division 90%-10%"
   ]
  },
  {
   "cell_type": "code",
   "execution_count": 2,
   "metadata": {},
   "outputs": [
    {
     "name": "stdout",
     "output_type": "stream",
     "text": [
      "   Outlook Temp Wind Humidity Class\n",
      "0        R    H    F   Normal     N\n",
      "1        R    H    T     High     N\n",
      "2        O    H    F   Normal     Y\n",
      "3        S    M    F   Normal     N\n",
      "4        S    M    F   Normal     Y\n",
      "5        S    M    T      Low     Y\n",
      "6        O    C    T   Normal     Y\n",
      "7        R    C    F   Normal     Y\n",
      "8        R    C    F      Low     Y\n",
      "9        S    M    F     High     Y\n",
      "10       R    M    T     High     Y\n",
      "11       O    M    T      Low     Y\n",
      "12       O    H    F   Normal     Y\n",
      "13       S    M    T   Normal     N\n"
     ]
    }
   ],
   "source": [
    "data=pd.read_csv('Dataset2.csv')\n",
    "print(data)"
   ]
  },
  {
   "cell_type": "code",
   "execution_count": 3,
   "metadata": {},
   "outputs": [
    {
     "name": "stdout",
     "output_type": "stream",
     "text": [
      "\n",
      "outlook : 0     R\n",
      "1     R\n",
      "2     O\n",
      "3     S\n",
      "4     S\n",
      "5     S\n",
      "6     O\n",
      "7     R\n",
      "8     R\n",
      "9     S\n",
      "10    R\n",
      "11    O\n",
      "12    O\n",
      "13    S\n",
      "Name: Outlook, dtype: object\n",
      "\n",
      "Encoded outlook : [1 1 0 2 2 2 0 1 1 2 1 0 0 2]\n"
     ]
    }
   ],
   "source": [
    "le=LabelEncoder()\n",
    "outlook=le.fit_transform(data.Outlook)\n",
    "print(\"\\noutlook :\",data.Outlook)\n",
    "print(\"\\nEncoded outlook :\",outlook)"
   ]
  },
  {
   "cell_type": "code",
   "execution_count": 4,
   "metadata": {},
   "outputs": [
    {
     "name": "stdout",
     "output_type": "stream",
     "text": [
      "\n",
      " temp : 0     H\n",
      "1     H\n",
      "2     H\n",
      "3     M\n",
      "4     M\n",
      "5     M\n",
      "6     C\n",
      "7     C\n",
      "8     C\n",
      "9     M\n",
      "10    M\n",
      "11    M\n",
      "12    H\n",
      "13    M\n",
      "Name: Temp, dtype: object\n",
      "\n",
      "Encoded temp : [1 1 1 2 2 2 0 0 0 2 2 2 1 2]\n",
      "\n",
      " wind : 0     F\n",
      "1     T\n",
      "2     F\n",
      "3     F\n",
      "4     F\n",
      "5     T\n",
      "6     T\n",
      "7     F\n",
      "8     F\n",
      "9     F\n",
      "10    T\n",
      "11    T\n",
      "12    F\n",
      "13    T\n",
      "Name: Wind, dtype: object\n",
      "\n",
      "Encoded wind : [0 1 0 0 0 1 1 0 0 0 1 1 0 1]\n",
      "\n",
      "Humdity : 0     Normal\n",
      "1       High\n",
      "2     Normal\n",
      "3     Normal\n",
      "4     Normal\n",
      "5        Low\n",
      "6     Normal\n",
      "7     Normal\n",
      "8        Low\n",
      "9       High\n",
      "10      High\n",
      "11       Low\n",
      "12    Normal\n",
      "13    Normal\n",
      "Name: Humidity, dtype: object\n",
      "\n",
      "Encoded Humdity : [2 0 2 2 2 1 2 2 1 0 0 1 2 2]\n",
      "\n",
      " class : 0     N\n",
      "1     N\n",
      "2     Y\n",
      "3     N\n",
      "4     Y\n",
      "5     Y\n",
      "6     Y\n",
      "7     Y\n",
      "8     Y\n",
      "9     Y\n",
      "10    Y\n",
      "11    Y\n",
      "12    Y\n",
      "13    N\n",
      "Name: Class, dtype: object\n",
      "\n",
      "Encoded class : [0 0 1 0 1 1 1 1 1 1 1 1 1 0]\n"
     ]
    }
   ],
   "source": [
    "temp=le.fit_transform(data.Temp)\n",
    "print(\"\\n temp :\",data.Temp)\n",
    "print(\"\\nEncoded temp :\",temp)\n",
    "wind=le.fit_transform(data.Wind)\n",
    "print(\"\\n wind :\",data.Wind)\n",
    "print(\"\\nEncoded wind :\",wind)\n",
    "hum=le.fit_transform(data.Humidity)\n",
    "print(\"\\nHumdity :\",data.Humidity)\n",
    "print(\"\\nEncoded Humdity :\",hum)\n",
    "res=le.fit_transform(data.Class)\n",
    "print(\"\\n class :\",data.Class)\n",
    "print(\"\\nEncoded class :\",res)"
   ]
  },
  {
   "cell_type": "code",
   "execution_count": 5,
   "metadata": {},
   "outputs": [
    {
     "name": "stdout",
     "output_type": "stream",
     "text": [
      "Features :  ((1, 1, 0, 2), (1, 1, 1, 0), (0, 1, 0, 2), (2, 2, 0, 2), (2, 2, 0, 2), (2, 2, 1, 1), (0, 0, 1, 2), (1, 0, 0, 2), (1, 0, 0, 1), (2, 2, 0, 0), (1, 2, 1, 0), (0, 2, 1, 1), (0, 1, 0, 2), (2, 2, 1, 2))\n"
     ]
    }
   ],
   "source": [
    "features=(tuple)(zip(outlook,temp,wind,hum))\n",
    "print(\"Features : \",features)"
   ]
  },
  {
   "cell_type": "code",
   "execution_count": 6,
   "metadata": {},
   "outputs": [
    {
     "name": "stdout",
     "output_type": "stream",
     "text": [
      "Predicted :   [1 1]\n"
     ]
    }
   ],
   "source": [
    "model=GaussianNB()\n",
    "model.fit(features,res);\n",
    "\n",
    "predict=model.predict([[1,2,0,2],[2,0,0,1]])\n",
    "print(\"Predicted :  \",predict)"
   ]
  },
  {
   "cell_type": "markdown",
   "metadata": {},
   "source": [
    "ACCURACY"
   ]
  },
  {
   "cell_type": "code",
   "execution_count": 7,
   "metadata": {},
   "outputs": [],
   "source": [
    "#testdata=np.array([data.Outlook,data.Temp,data.Wind,data.Humidity])\n",
    "#tardata=np.array([data.Class])\n",
    "\n",
    "data_train,data_test,tar_train,tar_test=train_test_split(features,res,test_size=0.1,random_state=61)"
   ]
  },
  {
   "cell_type": "code",
   "execution_count": 8,
   "metadata": {},
   "outputs": [
    {
     "name": "stdout",
     "output_type": "stream",
     "text": [
      "Accuracy : 0.5\n"
     ]
    }
   ],
   "source": [
    "gnd=GaussianNB()\n",
    "gnd.fit(data_train,tar_train)\n",
    "tar_pred=gnd.predict(data_test)\n",
    "print(\"Accuracy :\",metrics.accuracy_score(tar_test,tar_pred))"
   ]
  },
  {
   "cell_type": "code",
   "execution_count": 9,
   "metadata": {},
   "outputs": [
    {
     "name": "stdout",
     "output_type": "stream",
     "text": [
      "Confusion Metrix:  [[0 0]\n",
      " [1 1]]\n"
     ]
    }
   ],
   "source": [
    "print(\"Confusion Metrix: \",confusion_matrix(tar_test, tar_pred))"
   ]
  },
  {
   "cell_type": "code",
   "execution_count": 10,
   "metadata": {},
   "outputs": [
    {
     "name": "stdout",
     "output_type": "stream",
     "text": [
      "Pricision : [0. 1.]\n",
      "Recall : [0.  0.5]\n"
     ]
    },
    {
     "name": "stderr",
     "output_type": "stream",
     "text": [
      "C:\\Users\\nirav\\anaconda3\\lib\\site-packages\\sklearn\\metrics\\_classification.py:1221: UndefinedMetricWarning: Recall is ill-defined and being set to 0.0 in labels with no true samples. Use `zero_division` parameter to control this behavior.\n",
      "  _warn_prf(average, modifier, msg_start, len(result))\n"
     ]
    }
   ],
   "source": [
    "pricision=precision_score(tar_test, tar_pred,average=None)\n",
    "recall=recall_score(tar_test, tar_pred,average=None)\n",
    "print(\"Pricision : {}\".format(pricision))\n",
    "print(\"Recall : {}\".format(recall))"
   ]
  },
  {
   "cell_type": "markdown",
   "metadata": {},
   "source": [
    "# TASK 2 \n",
    "Apply algorithm on digits dataset - One Hot Encoding of features: and Train test Division\n",
    "65%-35%"
   ]
  },
  {
   "cell_type": "code",
   "execution_count": 59,
   "metadata": {},
   "outputs": [
    {
     "data": {
      "text/html": [
       "<div>\n",
       "<style scoped>\n",
       "    .dataframe tbody tr th:only-of-type {\n",
       "        vertical-align: middle;\n",
       "    }\n",
       "\n",
       "    .dataframe tbody tr th {\n",
       "        vertical-align: top;\n",
       "    }\n",
       "\n",
       "    .dataframe thead th {\n",
       "        text-align: right;\n",
       "    }\n",
       "</style>\n",
       "<table border=\"1\" class=\"dataframe\">\n",
       "  <thead>\n",
       "    <tr style=\"text-align: right;\">\n",
       "      <th></th>\n",
       "      <th>Length</th>\n",
       "      <th>Diameter</th>\n",
       "      <th>Height</th>\n",
       "      <th>Whole weight</th>\n",
       "      <th>Age</th>\n",
       "    </tr>\n",
       "  </thead>\n",
       "  <tbody>\n",
       "    <tr>\n",
       "      <th>0</th>\n",
       "      <td>5</td>\n",
       "      <td>4</td>\n",
       "      <td>4</td>\n",
       "      <td>2</td>\n",
       "      <td>18</td>\n",
       "    </tr>\n",
       "    <tr>\n",
       "      <th>1</th>\n",
       "      <td>6</td>\n",
       "      <td>5</td>\n",
       "      <td>3</td>\n",
       "      <td>3</td>\n",
       "      <td>10</td>\n",
       "    </tr>\n",
       "    <tr>\n",
       "      <th>2</th>\n",
       "      <td>4</td>\n",
       "      <td>6</td>\n",
       "      <td>2</td>\n",
       "      <td>5</td>\n",
       "      <td>10</td>\n",
       "    </tr>\n",
       "    <tr>\n",
       "      <th>3</th>\n",
       "      <td>3</td>\n",
       "      <td>2</td>\n",
       "      <td>1</td>\n",
       "      <td>6</td>\n",
       "      <td>18</td>\n",
       "    </tr>\n",
       "    <tr>\n",
       "      <th>4</th>\n",
       "      <td>4</td>\n",
       "      <td>4</td>\n",
       "      <td>2</td>\n",
       "      <td>6</td>\n",
       "      <td>10</td>\n",
       "    </tr>\n",
       "    <tr>\n",
       "      <th>5</th>\n",
       "      <td>5</td>\n",
       "      <td>2</td>\n",
       "      <td>3</td>\n",
       "      <td>5</td>\n",
       "      <td>18</td>\n",
       "    </tr>\n",
       "    <tr>\n",
       "      <th>6</th>\n",
       "      <td>6</td>\n",
       "      <td>6</td>\n",
       "      <td>1</td>\n",
       "      <td>3</td>\n",
       "      <td>18</td>\n",
       "    </tr>\n",
       "    <tr>\n",
       "      <th>7</th>\n",
       "      <td>4</td>\n",
       "      <td>5</td>\n",
       "      <td>4</td>\n",
       "      <td>2</td>\n",
       "      <td>18</td>\n",
       "    </tr>\n",
       "    <tr>\n",
       "      <th>8</th>\n",
       "      <td>3</td>\n",
       "      <td>2</td>\n",
       "      <td>2</td>\n",
       "      <td>2</td>\n",
       "      <td>10</td>\n",
       "    </tr>\n",
       "  </tbody>\n",
       "</table>\n",
       "</div>"
      ],
      "text/plain": [
       "   Length  Diameter  Height  Whole weight  Age\n",
       "0       5         4       4             2   18\n",
       "1       6         5       3             3   10\n",
       "2       4         6       2             5   10\n",
       "3       3         2       1             6   18\n",
       "4       4         4       2             6   10\n",
       "5       5         2       3             5   18\n",
       "6       6         6       1             3   18\n",
       "7       4         5       4             2   18\n",
       "8       3         2       2             2   10"
      ]
     },
     "execution_count": 59,
     "metadata": {},
     "output_type": "execute_result"
    }
   ],
   "source": [
    "import numpy as np\n",
    "import pandas as pd\n",
    "from sklearn import datasets\n",
    "from sklearn.naive_bayes import GaussianNB,MultinomialNB\n",
    "from sklearn.model_selection import train_test_split\n",
    "from sklearn.metrics import confusion_matrix\n",
    "from sklearn.metrics import precision_score\n",
    "from sklearn.metrics import recall_score\n",
    "from sklearn import metrics\n",
    "from sklearn.preprocessing import LabelEncoder\n",
    "\n",
    "data = pd.read_csv(\"abalone_train.csv\",names=[\"Length\", \"Diameter\", \"Height\", \"Whole weight\", \"Age\"])\n",
    "data"
   ]
  },
  {
   "cell_type": "code",
   "execution_count": 60,
   "metadata": {},
   "outputs": [
    {
     "name": "stdout",
     "output_type": "stream",
     "text": [
      "encoded data:     3  4  5  6  2  4  5  6  1  2  3  4  2  3  5  6  Age\n",
      "0  0  0  1  0  0  1  0  0  0  0  0  1  1  0  0  0    1\n",
      "1  0  0  0  1  0  0  1  0  0  0  1  0  0  1  0  0    0\n",
      "2  0  1  0  0  0  0  0  1  0  1  0  0  0  0  1  0    0\n",
      "3  1  0  0  0  1  0  0  0  1  0  0  0  0  0  0  1    1\n",
      "4  0  1  0  0  0  1  0  0  0  1  0  0  0  0  0  1    0\n",
      "5  0  0  1  0  1  0  0  0  0  0  1  0  0  0  1  0    1\n",
      "6  0  0  0  1  0  0  0  1  1  0  0  0  0  1  0  0    1\n",
      "7  0  1  0  0  0  0  1  0  0  0  0  1  1  0  0  0    1\n",
      "8  1  0  0  0  1  0  0  0  0  1  0  0  1  0  0  0    0\n"
     ]
    }
   ],
   "source": [
    "len=data['Length']\n",
    "length=pd.get_dummies(len)\n",
    "di=data['Diameter']\n",
    "dia=pd.get_dummies(di)\n",
    "he=data['Height']\n",
    "het=pd.get_dummies(he)\n",
    "w=data['Whole weight']\n",
    "wt=pd.get_dummies(w)\n",
    "le=LabelEncoder()\n",
    "data.iloc[:,-1]=le.fit_transform(data['Age'])\n",
    "\n",
    "data = data.drop(['Length', 'Diameter', 'Height', 'Whole weight'], axis = 1)\n",
    "data = pd.concat([length, dia, het, wt,data], axis = 1)\n",
    "\n",
    "\n",
    "print(\"encoded data: \",data)"
   ]
  },
  {
   "cell_type": "code",
   "execution_count": 61,
   "metadata": {
    "scrolled": true
   },
   "outputs": [
    {
     "name": "stdout",
     "output_type": "stream",
     "text": [
      "Features :     3  4  5  6  2  4  5  6  1  2  3  4  2  3  5  6\n",
      "0  0  0  1  0  0  1  0  0  0  0  0  1  1  0  0  0\n",
      "1  0  0  0  1  0  0  1  0  0  0  1  0  0  1  0  0\n",
      "2  0  1  0  0  0  0  0  1  0  1  0  0  0  0  1  0\n",
      "3  1  0  0  0  1  0  0  0  1  0  0  0  0  0  0  1\n",
      "4  0  1  0  0  0  1  0  0  0  1  0  0  0  0  0  1\n",
      "5  0  0  1  0  1  0  0  0  0  0  1  0  0  0  1  0\n",
      "6  0  0  0  1  0  0  0  1  1  0  0  0  0  1  0  0\n",
      "7  0  1  0  0  0  0  1  0  0  0  0  1  1  0  0  0\n",
      "8  1  0  0  0  1  0  0  0  0  1  0  0  1  0  0  0\n"
     ]
    }
   ],
   "source": [
    "features=data.iloc[:,:-1]\n",
    "labels=data.iloc[:,-1]\n",
    "print(\"Features : \",features)"
   ]
  },
  {
   "cell_type": "code",
   "execution_count": 64,
   "metadata": {
    "scrolled": true
   },
   "outputs": [
    {
     "name": "stdout",
     "output_type": "stream",
     "text": [
      "Accuracy : 0.25\n",
      "\n",
      "Confusion Matrix :\n",
      " [[0 3]\n",
      " [0 1]]\n",
      "\n",
      "precision : 0.25\n",
      "\n",
      "recall : 1.0\n"
     ]
    }
   ],
   "source": [
    "data_train,data_test,tar_train,tar_test=train_test_split(features,labels,test_size=0.35,random_state=61)\n",
    "\n",
    "gnd=GaussianNB()\n",
    "\n",
    "gnd.fit(data_train,tar_train)\n",
    "tar_pred=gnd.predict(data_test)\n",
    "print(\"Accuracy :\",metrics.accuracy_score(tar_test,tar_pred))\n",
    "\n",
    "print(\"\\nConfusion Matrix :\\n\", confusion_matrix(tar_test, tar_pred))\n",
    "\n",
    "precision = precision_score(tar_test, tar_pred)\n",
    "recall = recall_score(tar_test, tar_pred)\n",
    "\n",
    "print('\\nprecision :', precision)\n",
    "print('\\nrecall :', recall)"
   ]
  },
  {
   "cell_type": "code",
   "execution_count": null,
   "metadata": {},
   "outputs": [],
   "source": []
  }
 ],
 "metadata": {
  "kernelspec": {
   "display_name": "Python 3",
   "language": "python",
   "name": "python3"
  },
  "language_info": {
   "codemirror_mode": {
    "name": "ipython",
    "version": 3
   },
   "file_extension": ".py",
   "mimetype": "text/x-python",
   "name": "python",
   "nbconvert_exporter": "python",
   "pygments_lexer": "ipython3",
   "version": "3.8.5"
  }
 },
 "nbformat": 4,
 "nbformat_minor": 5
}
